{
 "cells": [
  {
   "cell_type": "code",
   "execution_count": 49,
   "metadata": {
    "scrolled": true
   },
   "outputs": [
    {
     "ename": "SyntaxError",
     "evalue": "invalid syntax (<ipython-input-49-6f0332582636>, line 33)",
     "output_type": "error",
     "traceback": [
      "\u001b[1;36m  File \u001b[1;32m\"<ipython-input-49-6f0332582636>\"\u001b[1;36m, line \u001b[1;32m33\u001b[0m\n\u001b[1;33m    if re.findall($e) in y[]:\u001b[0m\n\u001b[1;37m                  ^\u001b[0m\n\u001b[1;31mSyntaxError\u001b[0m\u001b[1;31m:\u001b[0m invalid syntax\n"
     ]
    }
   ],
   "source": [
    "import re\n",
    "x = \"\"\"I am very keen in building up my career in Data Science, but not sure from where to start. \n",
    "If I search the web it throws me thousands of articles, few are relevant others make me confused, again I come around to the same page. \n",
    "Supervised has provided me a good platform to remove all such qualms which were wrangling in my mind\"\"\"\n",
    "\n",
    "#printing the average length of the string\n",
    "print (len(x))\n",
    "\n",
    "#printing the complete string in lower case\n",
    "print (x.lower())\n",
    "\n",
    "#removing punctuation from the string using regex.\n",
    "print(re.sub('\\W+', ' ', x ))\n",
    "\n",
    "#extracting word datascience\n",
    "print (re.findall('Data Science', x))\n",
    "\n",
    "#finding out frequency\n",
    "y = list(x.split())\n",
    "l = len(y)\n",
    "a=0\n",
    "for i in range(0,len(y)):\n",
    "    if re.match(y[i],x):\n",
    "        print(y[i])\n",
    "        a=a+1\n",
    "        i=i+1\n",
    "        print (a) #it finds out all the words which are repeated and their frequency.\n",
    "print (a)#it gives highest number of freqency\n",
    "\n",
    "#change word supervised to unsupervised\n",
    "print(re.sub('Supervised', 'Unsupervised', x))\n",
    "\n",
    "        \n",
    "        "
   ]
  },
  {
   "cell_type": "code",
   "execution_count": null,
   "metadata": {},
   "outputs": [],
   "source": []
  }
 ],
 "metadata": {
  "kernelspec": {
   "display_name": "Python 3",
   "language": "python",
   "name": "python3"
  },
  "language_info": {
   "codemirror_mode": {
    "name": "ipython",
    "version": 3
   },
   "file_extension": ".py",
   "mimetype": "text/x-python",
   "name": "python",
   "nbconvert_exporter": "python",
   "pygments_lexer": "ipython3",
   "version": "3.7.3"
  }
 },
 "nbformat": 4,
 "nbformat_minor": 2
}
